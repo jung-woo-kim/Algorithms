{
 "cells": [
  {
   "cell_type": "code",
   "execution_count": 13,
   "metadata": {},
   "outputs": [
    {
     "name": "stdout",
     "output_type": "stream",
     "text": [
      "1\n",
      "2\n",
      "3\n",
      "3\n",
      "4\n",
      "9\n",
      "10\n",
      "13\n",
      "19\n",
      "21\n",
      "23\n",
      "30\n",
      "32\n",
      "45\n",
      "100\n"
     ]
    }
   ],
   "source": [
    "import sys\n",
    "\n",
    "b = [1, 9, 3 ,30,21,23,100,3,45,2,10,32,4,19,13]\n",
    "\n",
    "def swap(b,i,j):\n",
    "    temp=b[i]\n",
    "    b[i]=b[j]\n",
    "    b[j]=temp\n",
    "\n",
    "def bubbleSort(b):\n",
    "    for i in range(1,len(b)):\n",
    "        for j in range(1,len(b)+1-i):\n",
    "            if(b[j-1]>b[j]):\n",
    "                swap(b,j-1,j)\n",
    "                \n",
    "    return b\n",
    "\n",
    "a=bubbleSort(b)\n",
    "for i in a:\n",
    "    print(i)"
   ]
  },
  {
   "cell_type": "code",
   "execution_count": 11,
   "metadata": {},
   "outputs": [
    {
     "name": "stdout",
     "output_type": "stream",
     "text": [
      "1\n",
      "2\n",
      "3\n",
      "3\n",
      "9\n",
      "21\n",
      "23\n",
      "30\n",
      "45\n",
      "100\n"
     ]
    }
   ],
   "source": [
    "def sellectionSort(b):\n",
    "    for i in range(0,len(b)-1):\n",
    "        min=i\n",
    "        for j in range(i+1,len(b)):\n",
    "            if(b[j]<b[min]):\n",
    "                min = j\n",
    "            swap(b,i,min)\n",
    "    return b\n",
    "a=sellectionSort(b)\n",
    "for i in a:\n",
    "    print(i)"
   ]
  },
  {
   "cell_type": "code",
   "execution_count": 12,
   "metadata": {},
   "outputs": [
    {
     "name": "stdout",
     "output_type": "stream",
     "text": [
      "1\n",
      "2\n",
      "3\n",
      "3\n",
      "9\n",
      "21\n",
      "23\n",
      "30\n",
      "45\n",
      "100\n"
     ]
    }
   ],
   "source": [
    "def insertionSort(b):\n",
    "    for i in range(1,len(b)):\n",
    "        CurrentElement = b[i]\n",
    "        j=i-1\n",
    "        while(j>=0 and b[j]>CurrentElement):\n",
    "            b[j+1]=b[j]\n",
    "            j=j-1\n",
    "        b[j+1]=CurrentElement\n",
    "    return b\n",
    "\n",
    "a=insertionSort(b)\n",
    "for i in a:\n",
    "    print(i)"
   ]
  },
  {
   "cell_type": "code",
   "execution_count": 15,
   "metadata": {},
   "outputs": [
    {
     "name": "stdout",
     "output_type": "stream",
     "text": [
      "1\n",
      "2\n",
      "3\n",
      "3\n",
      "4\n",
      "9\n",
      "10\n",
      "13\n",
      "19\n",
      "21\n",
      "23\n",
      "30\n",
      "32\n",
      "45\n",
      "100\n"
     ]
    }
   ],
   "source": [
    "gap=[5,3,1]\n",
    "\n",
    "def shellSort(b):\n",
    "    for g in gap:\n",
    "        for i in range(g,len(b)):\n",
    "            CurrentElement = b[i]\n",
    "            j=i-1\n",
    "            while(j>=g and b[j-g]>CurrentElement):\n",
    "                b[j+1]=b[j]\n",
    "                j=j-1\n",
    "            b[j+1]=CurrentElement\n",
    "    return b\n",
    "a=shellSort(b)\n",
    "for i in a:\n",
    "    print(i)\n",
    "\n",
    "\n",
    "        "
   ]
  },
  {
   "cell_type": "code",
   "execution_count": null,
   "metadata": {},
   "outputs": [],
   "source": []
  }
 ],
 "metadata": {
  "kernelspec": {
   "display_name": "Python 3",
   "language": "python",
   "name": "python3"
  },
  "language_info": {
   "codemirror_mode": {
    "name": "ipython",
    "version": 3
   },
   "file_extension": ".py",
   "mimetype": "text/x-python",
   "name": "python",
   "nbconvert_exporter": "python",
   "pygments_lexer": "ipython3",
   "version": "3.7.9"
  }
 },
 "nbformat": 4,
 "nbformat_minor": 4
}
